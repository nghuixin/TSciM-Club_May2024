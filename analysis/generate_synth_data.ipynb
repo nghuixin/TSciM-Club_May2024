{
 "cells": [
  {
   "cell_type": "code",
   "execution_count": 8,
   "metadata": {},
   "outputs": [],
   "source": [
    "import numpy as np\n",
    "import pandas as pd\n",
    "import os \n",
    "import matplotlib.pyplot as plt\n",
    "#scikit-learn related imports\n",
    "import sklearn\n",
    "from sklearn.model_selection import train_test_split\n",
    "from sklearn.metrics import mean_squared_error\n",
    "\n",
    "# pytorch relates imports\n",
    "import torch\n",
    "import torch.nn as nn\n",
    "import torch.optim as optim\n",
    "import openpyxl\n",
    "\n",
    "# imports from captum library\n",
    "from captum.attr import IntegratedGradients,  GradientShap,FeatureAblation\n",
    "from sklearn.utils import resample\n",
    "from sklearn.datasets import fetch_california_housing\n",
    "california = fetch_california_housing()\n",
    "\n",
    "import scipy.stats as stats\n",
    "\n",
    "BD_path = '../data/reducedata_bd1011.xlsx'\n",
    "HC_path = '../data/reducedata_hc1011.xlsx'\n",
    "HC = pd.read_excel(HC_path, index_col = False)\n",
    "HC = HC.iloc[:, 2:]\n",
    "HC.columns = HC.iloc[0]\n",
    "HC = HC.iloc[1:].reset_index(drop=True)\n",
    "\n",
    "BD = pd.read_excel(BD_path, index_col = False)\n",
    "BD = BD.iloc[:, 2:]\n",
    "BD.columns = BD.iloc[0]\n",
    "BD = BD.iloc[1:].reset_index(drop=True)\n",
    "BD_mean = BD.iloc[:, 2:].mean()\n",
    "BD_sd = BD.iloc[:, 2:].std()\n",
    "HC_mean = HC.iloc[:, 2:].mean()\n",
    "HC_sd = HC.iloc[:, 2:].std()\n",
    "\n",
    "HC_synthetic = np.random.normal(loc=HC_mean.T, scale=HC_sd.T, size=(120, 88))\n",
    "HC_synthetic = pd.DataFrame(HC_synthetic)\n",
    "HC_synthetic.columns = HC_mean.index\n",
    "\n",
    "BD_synthetic = np.random.normal(loc=BD_mean.T, scale=BD_sd.T, size=(60, 88))\n",
    "BD_synthetic = pd.DataFrame(BD_synthetic)\n",
    "BD_synthetic.columns = BD_mean.index"
   ]
  },
  {
   "cell_type": "code",
   "execution_count": 9,
   "metadata": {},
   "outputs": [],
   "source": [
    "BD_synthetic.to_csv('../data/BD_synthetic.csv')\n",
    "HC_synthetic.to_csv('../data/HC_synthetic.csv')"
   ]
  },
  {
   "cell_type": "code",
   "execution_count": 14,
   "metadata": {},
   "outputs": [],
   "source": [
    "#stats.ttest_ind(BD_synthetic, HC_synthetic)"
   ]
  }
 ],
 "metadata": {
  "kernelspec": {
   "display_name": "TSciM",
   "language": "python",
   "name": "python3"
  },
  "language_info": {
   "codemirror_mode": {
    "name": "ipython",
    "version": 3
   },
   "file_extension": ".py",
   "mimetype": "text/x-python",
   "name": "python",
   "nbconvert_exporter": "python",
   "pygments_lexer": "ipython3",
   "version": "3.11.1"
  }
 },
 "nbformat": 4,
 "nbformat_minor": 2
}
